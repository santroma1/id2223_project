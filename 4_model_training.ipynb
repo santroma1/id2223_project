{
 "cells": [
  {
   "cell_type": "code",
   "execution_count": 26,
   "metadata": {},
   "outputs": [],
   "source": [
    "import hsfs\n",
    "import hopsworks\n",
    "import pandas as pd\n",
    "\n",
    "from sklearn.ensemble import GradientBoostingRegressor\n",
    "from sklearn.metrics import f1_score\n",
    "\n",
    "import warnings\n",
    "warnings.filterwarnings(\"ignore\")\n",
    "#RvLmP6cByDVIO2do.eUiPUAajvVgkNKBoBKswguvGuCb3UvWY9lnuw832q5mYKbC5eD4en9QbdsntpyDq"
   ]
  },
  {
   "cell_type": "code",
   "execution_count": 27,
   "metadata": {},
   "outputs": [
    {
     "name": "stdout",
     "output_type": "stream",
     "text": [
      "Connection closed.\n",
      "Connected. Call `.close()` to terminate connection gracefully.\n",
      "\n",
      "Multiple projects found. \n",
      "\n",
      "\t (1) ID2223ass1\n",
      "\t (2) id2223iris\n",
      "\n",
      "Logged in to project, explore it here https://c.app.hopsworks.ai:443/p/5379\n",
      "Connected. Call `.close()` to terminate connection gracefully.\n"
     ]
    }
   ],
   "source": [
    "project = hopsworks.login()\n",
    "fs = project.get_feature_store() \n",
    "\n",
    "air_columns_names = ['aqi', 'iaqi_h', 'iaqi_p', 'iaqi_pm10', 'iaqi_t', 'date',\n",
    "                'o3_avg', 'o3_max', 'o3_min', 'pm10_avg', 'pm10_max', 'pm10_min',\n",
    "                'pm25_avg', 'pm25_max', 'pm25_min']\n",
    "\n",
    "\n",
    "air_quality_fg = fs.get_or_create_feature_group(\n",
    "    name = 'air_quality_fg',\n",
    "    version = 1\n",
    ")\n",
    "weather_fg = fs.get_or_create_feature_group(\n",
    "    name = 'weather_fg',\n",
    "    version = 1\n",
    ")"
   ]
  },
  {
   "cell_type": "code",
   "execution_count": 28,
   "metadata": {},
   "outputs": [
    {
     "name": "stdout",
     "output_type": "stream",
     "text": [
      "2023-01-12 18:48:37,456 INFO: USE `id2223iris_featurestore`\n",
      "2023-01-12 18:48:38,152 INFO: SELECT `fg0`.`city` `city`, `fg0`.`aqi` `aqi`, `fg0`.`iaqi_h` `iaqi_h`, `fg0`.`iaqi_p` `iaqi_p`, `fg0`.`iaqi_pm10` `iaqi_pm10`, `fg0`.`iaqi_t` `iaqi_t`, `fg0`.`date` `date`, `fg0`.`o3_avg` `o3_avg`, `fg0`.`o3_max` `o3_max`, `fg0`.`o3_min` `o3_min`, `fg0`.`pm10_avg` `pm10_avg`, `fg0`.`pm10_max` `pm10_max`, `fg0`.`pm10_min` `pm10_min`, `fg0`.`pm25_avg` `pm25_avg`, `fg0`.`pm25_max` `pm25_max`, `fg0`.`pm25_min` `pm25_min`\n",
      "FROM `id2223iris_featurestore`.`air_quality_fg_1` `fg0`\n",
      "2023-01-12 18:48:41,042 INFO: USE `id2223iris_featurestore`\n",
      "2023-01-12 18:48:41,781 INFO: SELECT `fg0`.`city` `city`, `fg0`.`date` `date`, `fg0`.`tempmax` `tempmax`, `fg0`.`tempmin` `tempmin`, `fg0`.`temp` `temp`, `fg0`.`feelslikemax` `feelslikemax`, `fg0`.`feelslikemin` `feelslikemin`, `fg0`.`feelslike` `feelslike`, `fg0`.`dew` `dew`, `fg0`.`humidity` `humidity`, `fg0`.`precip` `precip`, `fg0`.`precipprob` `precipprob`, `fg0`.`precipcover` `precipcover`, `fg0`.`snow` `snow`, `fg0`.`snowdepth` `snowdepth`, `fg0`.`windgust` `windgust`, `fg0`.`windspeed` `windspeed`, `fg0`.`winddir` `winddir`, `fg0`.`pressure` `pressure`, `fg0`.`cloudcover` `cloudcover`, `fg0`.`visibility` `visibility`, `fg0`.`solarradiation` `solarradiation`, `fg0`.`solarenergy` `solarenergy`, `fg0`.`uvindex` `uvindex`, `fg0`.`conditions` `conditions`\n",
      "FROM `id2223iris_featurestore`.`weather_fg_1` `fg0`\n"
     ]
    }
   ],
   "source": [
    "query = air_quality_fg.select(air_columns_names).join(weather_fg.select_all() , on=['date'])\n",
    "\n",
    "# air_columns = air_quality_fg.select_all().show(5).columns\n",
    "# weather_columns = weather_fg.select_all().show(5).columns"
   ]
  },
  {
   "cell_type": "code",
   "execution_count": 29,
   "metadata": {},
   "outputs": [
    {
     "name": "stdout",
     "output_type": "stream",
     "text": [
      "2023-01-12 18:49:39,898 INFO: USE `id2223iris_featurestore`\n",
      "2023-01-12 18:49:40,619 INFO: WITH right_fg0 AS (SELECT *\n",
      "FROM (SELECT `fg1`.`aqi` `aqi`, `fg1`.`iaqi_h` `iaqi_h`, `fg1`.`iaqi_p` `iaqi_p`, `fg1`.`iaqi_pm10` `iaqi_pm10`, `fg1`.`iaqi_t` `iaqi_t`, `fg1`.`date` `date`, `fg1`.`o3_avg` `o3_avg`, `fg1`.`o3_max` `o3_max`, `fg1`.`o3_min` `o3_min`, `fg1`.`pm10_avg` `pm10_avg`, `fg1`.`pm10_max` `pm10_max`, `fg1`.`pm10_min` `pm10_min`, `fg1`.`pm25_avg` `pm25_avg`, `fg1`.`pm25_max` `pm25_max`, `fg1`.`pm25_min` `pm25_min`, `fg1`.`city` `join_pk_city`, `fg1`.`date` `join_pk_date`, `fg1`.`date` `join_evt_date`, `fg0`.`city` `city`, `fg0`.`tempmax` `tempmax`, `fg0`.`tempmin` `tempmin`, `fg0`.`temp` `temp`, `fg0`.`feelslikemax` `feelslikemax`, `fg0`.`feelslikemin` `feelslikemin`, `fg0`.`feelslike` `feelslike`, `fg0`.`dew` `dew`, `fg0`.`humidity` `humidity`, `fg0`.`precip` `precip`, `fg0`.`precipprob` `precipprob`, `fg0`.`precipcover` `precipcover`, `fg0`.`snow` `snow`, `fg0`.`snowdepth` `snowdepth`, `fg0`.`windgust` `windgust`, `fg0`.`windspeed` `windspeed`, `fg0`.`winddir` `winddir`, `fg0`.`pressure` `pressure`, `fg0`.`cloudcover` `cloudcover`, `fg0`.`visibility` `visibility`, `fg0`.`solarradiation` `solarradiation`, `fg0`.`solarenergy` `solarenergy`, `fg0`.`uvindex` `uvindex`, `fg0`.`conditions` `conditions`, RANK() OVER (PARTITION BY `fg1`.`date`, `fg1`.`date` ORDER BY `fg0`.`date` DESC) pit_rank_hopsworks\n",
      "FROM `id2223iris_featurestore`.`air_quality_fg_1` `fg1`\n",
      "INNER JOIN `id2223iris_featurestore`.`weather_fg_1` `fg0` ON `fg1`.`date` = `fg0`.`date` AND `fg1`.`date` >= `fg0`.`date`) NA\n",
      "WHERE `pit_rank_hopsworks` = 1) (SELECT `right_fg0`.`aqi` `aqi`, `right_fg0`.`iaqi_h` `iaqi_h`, `right_fg0`.`iaqi_p` `iaqi_p`, `right_fg0`.`iaqi_pm10` `iaqi_pm10`, `right_fg0`.`iaqi_t` `iaqi_t`, `right_fg0`.`date` `date`, `right_fg0`.`o3_avg` `o3_avg`, `right_fg0`.`o3_max` `o3_max`, `right_fg0`.`o3_min` `o3_min`, `right_fg0`.`pm10_avg` `pm10_avg`, `right_fg0`.`pm10_max` `pm10_max`, `right_fg0`.`pm10_min` `pm10_min`, `right_fg0`.`pm25_avg` `pm25_avg`, `right_fg0`.`pm25_max` `pm25_max`, `right_fg0`.`pm25_min` `pm25_min`, `right_fg0`.`city` `city`, `right_fg0`.`tempmax` `tempmax`, `right_fg0`.`tempmin` `tempmin`, `right_fg0`.`temp` `temp`, `right_fg0`.`feelslikemax` `feelslikemax`, `right_fg0`.`feelslikemin` `feelslikemin`, `right_fg0`.`feelslike` `feelslike`, `right_fg0`.`dew` `dew`, `right_fg0`.`humidity` `humidity`, `right_fg0`.`precip` `precip`, `right_fg0`.`precipprob` `precipprob`, `right_fg0`.`precipcover` `precipcover`, `right_fg0`.`snow` `snow`, `right_fg0`.`snowdepth` `snowdepth`, `right_fg0`.`windgust` `windgust`, `right_fg0`.`windspeed` `windspeed`, `right_fg0`.`winddir` `winddir`, `right_fg0`.`pressure` `pressure`, `right_fg0`.`cloudcover` `cloudcover`, `right_fg0`.`visibility` `visibility`, `right_fg0`.`solarradiation` `solarradiation`, `right_fg0`.`solarenergy` `solarenergy`, `right_fg0`.`uvindex` `uvindex`, `right_fg0`.`conditions` `conditions`\n",
      "FROM right_fg0)\n"
     ]
    }
   ],
   "source": [
    "query_show = query.show(5)\n",
    "col_names = query_show.columns"
   ]
  },
  {
   "cell_type": "code",
   "execution_count": 30,
   "metadata": {},
   "outputs": [],
   "source": [
    "# col_names = list(air_columns) + list(weather_columns)\n",
    "\n",
    "category_cols = ['city','date','conditions','aqi']\n",
    "mapping_transformers = {col_name:fs.get_transformation_function(name='standard_scaler') for col_name in col_names if col_name not in category_cols}\n",
    "category_cols = {col_name:fs.get_transformation_function(name='label_encoder') for col_name in category_cols if col_name not in ['date','aqi']}\n",
    "mapping_transformers.update(category_cols)"
   ]
  },
  {
   "cell_type": "code",
   "execution_count": 32,
   "metadata": {},
   "outputs": [
    {
     "name": "stdout",
     "output_type": "stream",
     "text": [
      "Feature view created successfully, explore it at \n",
      "https://c.app.hopsworks.ai:443/p/5359/fs/5272/fv/air_quality_fv/version/4\n"
     ]
    }
   ],
   "source": [
    "\n",
    "feature_view = fs.create_feature_view(\n",
    "    name = 'air_quality_fv',\n",
    "    version = 4,\n",
    "    transformation_functions = mapping_transformers,\n",
    "    query = query\n",
    ")\n",
    "\n",
    "feature_view = fs.get_feature_view(\n",
    "    name = 'air_quality_fv',\n",
    "    version = 4\n",
    ")"
   ]
  },
  {
   "cell_type": "code",
   "execution_count": 34,
   "metadata": {},
   "outputs": [
    {
     "ename": "ValueError",
     "evalue": "Incorrect `get` method is used. Use `feature_view.get_train_test_split` instead.",
     "output_type": "error",
     "traceback": [
      "\u001b[0;31m---------------------------------------------------------------------------\u001b[0m",
      "\u001b[0;31mValueError\u001b[0m                                Traceback (most recent call last)",
      "Cell \u001b[0;32mIn [34], line 1\u001b[0m\n\u001b[0;32m----> 1\u001b[0m train_data \u001b[39m=\u001b[39m feature_view\u001b[39m.\u001b[39;49mget_training_data(\u001b[39m1\u001b[39;49m)[\u001b[39m0\u001b[39m]\n\u001b[1;32m      3\u001b[0m train_data\u001b[39m.\u001b[39mhead()\n",
      "File \u001b[0;32m~/anaconda3/envs/scalable_ML/lib/python3.9/site-packages/hsfs/feature_view.py:1024\u001b[0m, in \u001b[0;36mFeatureView.get_training_data\u001b[0;34m(self, training_dataset_version, read_options)\u001b[0m\n\u001b[1;32m    999\u001b[0m \u001b[39mdef\u001b[39;00m \u001b[39mget_training_data\u001b[39m(\n\u001b[1;32m   1000\u001b[0m     \u001b[39mself\u001b[39m,\n\u001b[1;32m   1001\u001b[0m     training_dataset_version,\n\u001b[1;32m   1002\u001b[0m     read_options: Optional[Dict[Any, Any]] \u001b[39m=\u001b[39m \u001b[39mNone\u001b[39;00m,\n\u001b[1;32m   1003\u001b[0m ):\n\u001b[1;32m   1004\u001b[0m     \u001b[39m\"\"\"\u001b[39;00m\n\u001b[1;32m   1005\u001b[0m \u001b[39m    Get training data from storage or feature groups.\u001b[39;00m\n\u001b[1;32m   1006\u001b[0m \n\u001b[0;32m   (...)\u001b[0m\n\u001b[1;32m   1022\u001b[0m \n\u001b[1;32m   1023\u001b[0m \u001b[39m    \"\"\"\u001b[39;00m\n\u001b[0;32m-> 1024\u001b[0m     td, df \u001b[39m=\u001b[39m \u001b[39mself\u001b[39;49m\u001b[39m.\u001b[39;49m_feature_view_engine\u001b[39m.\u001b[39;49mget_training_data(\n\u001b[1;32m   1025\u001b[0m         \u001b[39mself\u001b[39;49m, read_options, training_dataset_version\u001b[39m=\u001b[39;49mtraining_dataset_version\n\u001b[1;32m   1026\u001b[0m     )\n\u001b[1;32m   1027\u001b[0m     \u001b[39mreturn\u001b[39;00m df\n",
      "File \u001b[0;32m~/anaconda3/envs/scalable_ML/lib/python3.9/site-packages/hsfs/core/feature_view_engine.py:174\u001b[0m, in \u001b[0;36mFeatureViewEngine.get_training_data\u001b[0;34m(self, feature_view_obj, read_options, splits, training_dataset_obj, training_dataset_version)\u001b[0m\n\u001b[1;32m    172\u001b[0m     \u001b[39melif\u001b[39;00m \u001b[39mlen\u001b[39m(td_updated\u001b[39m.\u001b[39msplits) \u001b[39m==\u001b[39m \u001b[39m3\u001b[39m:\n\u001b[1;32m    173\u001b[0m         method_name \u001b[39m=\u001b[39m \u001b[39m\"\u001b[39m\u001b[39mget_train_validation_test_split\u001b[39m\u001b[39m\"\u001b[39m\n\u001b[0;32m--> 174\u001b[0m     \u001b[39mraise\u001b[39;00m \u001b[39mValueError\u001b[39;00m(\n\u001b[1;32m    175\u001b[0m         \u001b[39mf\u001b[39m\u001b[39m\"\u001b[39m\u001b[39mIncorrect `get` method is used. Use `feature_view.\u001b[39m\u001b[39m{\u001b[39;00mmethod_name\u001b[39m}\u001b[39;00m\u001b[39m` instead.\u001b[39m\u001b[39m\"\u001b[39m\n\u001b[1;32m    176\u001b[0m     )\n\u001b[1;32m    178\u001b[0m read_options \u001b[39m=\u001b[39m engine\u001b[39m.\u001b[39mget_instance()\u001b[39m.\u001b[39mread_options(\n\u001b[1;32m    179\u001b[0m     td_updated\u001b[39m.\u001b[39mdata_format, read_options\n\u001b[1;32m    180\u001b[0m )\n\u001b[1;32m    182\u001b[0m \u001b[39mif\u001b[39;00m td_updated\u001b[39m.\u001b[39mtraining_dataset_type \u001b[39m!=\u001b[39m td_updated\u001b[39m.\u001b[39mIN_MEMORY:\n",
      "\u001b[0;31mValueError\u001b[0m: Incorrect `get` method is used. Use `feature_view.get_train_test_split` instead."
     ]
    }
   ],
   "source": [
    "data_bundles = feature_view.train_test_split(0.2)"
   ]
  },
  {
   "cell_type": "code",
   "execution_count": null,
   "metadata": {},
   "outputs": [],
   "source": []
  }
 ],
 "metadata": {
  "kernelspec": {
   "display_name": "scalable_ML",
   "language": "python",
   "name": "python3"
  },
  "language_info": {
   "codemirror_mode": {
    "name": "ipython",
    "version": 3
   },
   "file_extension": ".py",
   "mimetype": "text/x-python",
   "name": "python",
   "nbconvert_exporter": "python",
   "pygments_lexer": "ipython3",
   "version": "3.9.15"
  },
  "orig_nbformat": 4,
  "vscode": {
   "interpreter": {
    "hash": "2d295be4aa914b5aeb1cf5c3334480ecb0706dec3620cccbeaeca7dea533b395"
   }
  }
 },
 "nbformat": 4,
 "nbformat_minor": 2
}
