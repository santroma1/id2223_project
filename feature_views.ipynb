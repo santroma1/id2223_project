{
 "cells": [
  {
   "cell_type": "code",
   "execution_count": 1,
   "metadata": {},
   "outputs": [],
   "source": [
    "import hsfs\n",
    "import hopsworks\n",
    "import pandas as pd\n",
    "\n",
    "from sklearn.ensemble import GradientBoostingRegressor\n",
    "from sklearn.metrics import f1_score\n",
    "\n",
    "import warnings\n",
    "warnings.filterwarnings(\"ignore\")\n",
    "#RvLmP6cByDVIO2do.eUiPUAajvVgkNKBoBKswguvGuCb3UvWY9lnuw832q5mYKbC5eD4en9QbdsntpyDq"
   ]
  },
  {
   "cell_type": "code",
   "execution_count": 2,
   "metadata": {},
   "outputs": [
    {
     "name": "stdout",
     "output_type": "stream",
     "text": [
      "Connected. Call `.close()` to terminate connection gracefully.\n",
      "\n",
      "Logged in to project, explore it here https://c.app.hopsworks.ai:443/p/5359\n",
      "Connected. Call `.close()` to terminate connection gracefully.\n"
     ]
    }
   ],
   "source": [
    "project = hopsworks.login()\n",
    "fs = project.get_feature_store() \n",
    "\n",
    "air_columns_names = ['aqi', 'iaqi_h', 'iaqi_p', 'iaqi_pm10', 'iaqi_t', 'date',\n",
    "                'o3_avg', 'o3_max', 'o3_min', 'pm10_avg', 'pm10_max', 'pm10_min',\n",
    "                'pm25_avg', 'pm25_max', 'pm25_min']\n",
    "\n",
    "\n",
    "air_quality_fg = fs.get_or_create_feature_group(\n",
    "    name = 'air_quality_fg',\n",
    "    version = 2\n",
    ")\n",
    "weather_fg = fs.get_or_create_feature_group(\n",
    "    name = 'weather_fg',\n",
    "    version = 2\n",
    ")"
   ]
  },
  {
   "cell_type": "code",
   "execution_count": 3,
   "metadata": {},
   "outputs": [],
   "source": [
    "query = air_quality_fg.select(air_columns_names).join(weather_fg.select_all() , on=['date'])\n",
    "\n",
    "# air_columns = air_quality_fg.select_all().show(5).columns\n",
    "# weather_columns = weather_fg.select_all().show(5).columns"
   ]
  },
  {
   "cell_type": "code",
   "execution_count": 4,
   "metadata": {},
   "outputs": [
    {
     "name": "stdout",
     "output_type": "stream",
     "text": [
      "2023-01-14 08:58:47,182 INFO: USE `id2223iris_featurestore`\n",
      "2023-01-14 08:58:47,658 INFO: WITH right_fg0 AS (SELECT *\n",
      "FROM (SELECT `fg1`.`aqi` `aqi`, `fg1`.`iaqi_h` `iaqi_h`, `fg1`.`iaqi_p` `iaqi_p`, `fg1`.`iaqi_pm10` `iaqi_pm10`, `fg1`.`iaqi_t` `iaqi_t`, `fg1`.`date` `date`, `fg1`.`o3_avg` `o3_avg`, `fg1`.`o3_max` `o3_max`, `fg1`.`o3_min` `o3_min`, `fg1`.`pm10_avg` `pm10_avg`, `fg1`.`pm10_max` `pm10_max`, `fg1`.`pm10_min` `pm10_min`, `fg1`.`pm25_avg` `pm25_avg`, `fg1`.`pm25_max` `pm25_max`, `fg1`.`pm25_min` `pm25_min`, `fg1`.`date` `join_pk_date`, `fg1`.`date` `join_evt_date`, `fg0`.`tempmax` `tempmax`, `fg0`.`tempmin` `tempmin`, `fg0`.`temp` `temp`, `fg0`.`feelslikemax` `feelslikemax`, `fg0`.`feelslikemin` `feelslikemin`, `fg0`.`feelslike` `feelslike`, `fg0`.`dew` `dew`, `fg0`.`humidity` `humidity`, `fg0`.`precip` `precip`, `fg0`.`precipprob` `precipprob`, `fg0`.`precipcover` `precipcover`, `fg0`.`snow` `snow`, `fg0`.`snowdepth` `snowdepth`, `fg0`.`windgust` `windgust`, `fg0`.`windspeed` `windspeed`, `fg0`.`winddir` `winddir`, `fg0`.`pressure` `pressure`, `fg0`.`cloudcover` `cloudcover`, `fg0`.`visibility` `visibility`, `fg0`.`solarradiation` `solarradiation`, `fg0`.`solarenergy` `solarenergy`, `fg0`.`uvindex` `uvindex`, `fg0`.`conditions` `conditions`, RANK() OVER (PARTITION BY `fg1`.`date`, `fg1`.`date` ORDER BY `fg0`.`date` DESC) pit_rank_hopsworks\n",
      "FROM `id2223iris_featurestore`.`air_quality_fg_2` `fg1`\n",
      "INNER JOIN `id2223iris_featurestore`.`weather_fg_2` `fg0` ON `fg1`.`date` = `fg0`.`date` AND `fg1`.`date` >= `fg0`.`date`) NA\n",
      "WHERE `pit_rank_hopsworks` = 1) (SELECT `right_fg0`.`aqi` `aqi`, `right_fg0`.`iaqi_h` `iaqi_h`, `right_fg0`.`iaqi_p` `iaqi_p`, `right_fg0`.`iaqi_pm10` `iaqi_pm10`, `right_fg0`.`iaqi_t` `iaqi_t`, `right_fg0`.`date` `date`, `right_fg0`.`o3_avg` `o3_avg`, `right_fg0`.`o3_max` `o3_max`, `right_fg0`.`o3_min` `o3_min`, `right_fg0`.`pm10_avg` `pm10_avg`, `right_fg0`.`pm10_max` `pm10_max`, `right_fg0`.`pm10_min` `pm10_min`, `right_fg0`.`pm25_avg` `pm25_avg`, `right_fg0`.`pm25_max` `pm25_max`, `right_fg0`.`pm25_min` `pm25_min`, `right_fg0`.`tempmax` `tempmax`, `right_fg0`.`tempmin` `tempmin`, `right_fg0`.`temp` `temp`, `right_fg0`.`feelslikemax` `feelslikemax`, `right_fg0`.`feelslikemin` `feelslikemin`, `right_fg0`.`feelslike` `feelslike`, `right_fg0`.`dew` `dew`, `right_fg0`.`humidity` `humidity`, `right_fg0`.`precip` `precip`, `right_fg0`.`precipprob` `precipprob`, `right_fg0`.`precipcover` `precipcover`, `right_fg0`.`snow` `snow`, `right_fg0`.`snowdepth` `snowdepth`, `right_fg0`.`windgust` `windgust`, `right_fg0`.`windspeed` `windspeed`, `right_fg0`.`winddir` `winddir`, `right_fg0`.`pressure` `pressure`, `right_fg0`.`cloudcover` `cloudcover`, `right_fg0`.`visibility` `visibility`, `right_fg0`.`solarradiation` `solarradiation`, `right_fg0`.`solarenergy` `solarenergy`, `right_fg0`.`uvindex` `uvindex`, `right_fg0`.`conditions` `conditions`\n",
      "FROM right_fg0)\n"
     ]
    }
   ],
   "source": [
    "query_show = query.show(5)\n",
    "col_names = query_show.columns"
   ]
  },
  {
   "cell_type": "code",
   "execution_count": 6,
   "metadata": {},
   "outputs": [
    {
     "data": {
      "text/plain": [
       "Index(['aqi', 'iaqi_h', 'iaqi_p', 'iaqi_pm10', 'iaqi_t', 'date', 'o3_avg',\n",
       "       'o3_max', 'o3_min', 'pm10_avg', 'pm10_max', 'pm10_min', 'pm25_avg',\n",
       "       'pm25_max', 'pm25_min', 'tempmax', 'tempmin', 'temp', 'feelslikemax',\n",
       "       'feelslikemin', 'feelslike', 'dew', 'humidity', 'precip', 'precipprob',\n",
       "       'precipcover', 'snow', 'snowdepth', 'windgust', 'windspeed', 'winddir',\n",
       "       'pressure', 'cloudcover', 'visibility', 'solarradiation', 'solarenergy',\n",
       "       'uvindex', 'conditions'],\n",
       "      dtype='object')"
      ]
     },
     "execution_count": 6,
     "metadata": {},
     "output_type": "execute_result"
    }
   ],
   "source": [
    "query_show.columns"
   ]
  },
  {
   "cell_type": "code",
   "execution_count": 9,
   "metadata": {},
   "outputs": [],
   "source": [
    "# col_names = list(air_columns) + list(weather_columns)\n",
    "\n",
    "category_cols = ['date','conditions','aqi']\n",
    "mapping_transformers = {col_name:fs.get_transformation_function(name='standard_scaler') for col_name in col_names if col_name not in category_cols}\n",
    "category_cols = {col_name:fs.get_transformation_function(name='label_encoder') for col_name in category_cols if col_name not in ['date','aqi']}\n",
    "mapping_transformers.update(category_cols)"
   ]
  },
  {
   "cell_type": "code",
   "execution_count": 10,
   "metadata": {},
   "outputs": [
    {
     "name": "stdout",
     "output_type": "stream",
     "text": [
      "Feature view created successfully, explore it at \n",
      "https://c.app.hopsworks.ai:443/p/5359/fs/5272/fv/air_quality_fv/version/6\n"
     ]
    }
   ],
   "source": [
    "\n",
    "feature_view = fs.create_feature_view(\n",
    "    name = 'air_quality_fv',\n",
    "    version = 6,\n",
    "    transformation_functions = mapping_transformers,\n",
    "    query = query\n",
    ")\n",
    "\n",
    "feature_view = fs.get_feature_view(\n",
    "    name = 'air_quality_fv',\n",
    "    version = 6\n",
    ")"
   ]
  },
  {
   "cell_type": "code",
   "execution_count": null,
   "metadata": {},
   "outputs": [],
   "source": []
  }
 ],
 "metadata": {
  "kernelspec": {
   "display_name": "id2223",
   "language": "python",
   "name": "python3"
  },
  "language_info": {
   "codemirror_mode": {
    "name": "ipython",
    "version": 3
   },
   "file_extension": ".py",
   "mimetype": "text/x-python",
   "name": "python",
   "nbconvert_exporter": "python",
   "pygments_lexer": "ipython3",
   "version": "3.8.13"
  },
  "orig_nbformat": 4,
  "vscode": {
   "interpreter": {
    "hash": "72d9cb393ebccf0ab87ae454626ac677825ae16c3cf70fb4dbd37b0845ae40f2"
   }
  }
 },
 "nbformat": 4,
 "nbformat_minor": 2
}
