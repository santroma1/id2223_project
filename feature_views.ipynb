{
 "cells": [
  {
   "cell_type": "code",
   "execution_count": 1,
   "metadata": {},
   "outputs": [],
   "source": [
    "import hsfs\n",
    "import hopsworks\n",
    "import pandas as pd\n",
    "\n",
    "from sklearn.ensemble import GradientBoostingRegressor\n",
    "from sklearn.metrics import f1_score\n",
    "\n",
    "import warnings\n",
    "warnings.filterwarnings(\"ignore\")\n",
    "#RvLmP6cByDVIO2do.eUiPUAajvVgkNKBoBKswguvGuCb3UvWY9lnuw832q5mYKbC5eD4en9QbdsntpyDq"
   ]
  },
  {
   "cell_type": "code",
   "execution_count": 2,
   "metadata": {},
   "outputs": [
    {
     "name": "stdout",
     "output_type": "stream",
     "text": [
      "Connected. Call `.close()` to terminate connection gracefully.\n",
      "\n",
      "Logged in to project, explore it here https://c.app.hopsworks.ai:443/p/5359\n",
      "Connected. Call `.close()` to terminate connection gracefully.\n"
     ]
    }
   ],
   "source": [
    "project = hopsworks.login()\n",
    "fs = project.get_feature_store() \n",
    "\n",
    "air_columns_names = ['aqi', 'iaqi_h', 'iaqi_p', 'iaqi_pm10', 'iaqi_t', 'date',\n",
    "                'o3_avg', 'o3_max', 'o3_min', 'pm10_avg', 'pm10_max', 'pm10_min',\n",
    "                'pm25_avg', 'pm25_max', 'pm25_min']\n",
    "\n",
    "\n",
    "air_quality_fg = fs.get_or_create_feature_group(\n",
    "    name = 'air_quality_fg',\n",
    "    version = 1\n",
    ")\n",
    "weather_fg = fs.get_or_create_feature_group(\n",
    "    name = 'weather_fg',\n",
    "    version = 1\n",
    ")"
   ]
  },
  {
   "cell_type": "code",
   "execution_count": 3,
   "metadata": {},
   "outputs": [],
   "source": [
    "query = air_quality_fg.select(air_columns_names).join(weather_fg.select_all() , on=['date'])\n",
    "\n",
    "# air_columns = air_quality_fg.select_all().show(5).columns\n",
    "# weather_columns = weather_fg.select_all().show(5).columns"
   ]
  },
  {
   "cell_type": "code",
   "execution_count": 4,
   "metadata": {},
   "outputs": [
    {
     "name": "stdout",
     "output_type": "stream",
     "text": [
      "2023-01-13 10:06:36,021 INFO: USE `id2223iris_featurestore`\n",
      "2023-01-13 10:06:36,638 INFO: WITH right_fg0 AS (SELECT *\n",
      "FROM (SELECT `fg1`.`aqi` `aqi`, `fg1`.`iaqi_h` `iaqi_h`, `fg1`.`iaqi_p` `iaqi_p`, `fg1`.`iaqi_pm10` `iaqi_pm10`, `fg1`.`iaqi_t` `iaqi_t`, `fg1`.`date` `date`, `fg1`.`o3_avg` `o3_avg`, `fg1`.`o3_max` `o3_max`, `fg1`.`o3_min` `o3_min`, `fg1`.`pm10_avg` `pm10_avg`, `fg1`.`pm10_max` `pm10_max`, `fg1`.`pm10_min` `pm10_min`, `fg1`.`pm25_avg` `pm25_avg`, `fg1`.`pm25_max` `pm25_max`, `fg1`.`pm25_min` `pm25_min`, `fg1`.`city` `join_pk_city`, `fg1`.`date` `join_pk_date`, `fg1`.`date` `join_evt_date`, `fg0`.`city` `city`, `fg0`.`tempmax` `tempmax`, `fg0`.`tempmin` `tempmin`, `fg0`.`temp` `temp`, `fg0`.`feelslikemax` `feelslikemax`, `fg0`.`feelslikemin` `feelslikemin`, `fg0`.`feelslike` `feelslike`, `fg0`.`dew` `dew`, `fg0`.`humidity` `humidity`, `fg0`.`precip` `precip`, `fg0`.`precipprob` `precipprob`, `fg0`.`precipcover` `precipcover`, `fg0`.`snow` `snow`, `fg0`.`snowdepth` `snowdepth`, `fg0`.`windgust` `windgust`, `fg0`.`windspeed` `windspeed`, `fg0`.`winddir` `winddir`, `fg0`.`pressure` `pressure`, `fg0`.`cloudcover` `cloudcover`, `fg0`.`visibility` `visibility`, `fg0`.`solarradiation` `solarradiation`, `fg0`.`solarenergy` `solarenergy`, `fg0`.`uvindex` `uvindex`, `fg0`.`conditions` `conditions`, RANK() OVER (PARTITION BY `fg1`.`date`, `fg1`.`date` ORDER BY `fg0`.`date` DESC) pit_rank_hopsworks\n",
      "FROM `id2223iris_featurestore`.`air_quality_fg_1` `fg1`\n",
      "INNER JOIN `id2223iris_featurestore`.`weather_fg_1` `fg0` ON `fg1`.`date` = `fg0`.`date` AND `fg1`.`date` >= `fg0`.`date`) NA\n",
      "WHERE `pit_rank_hopsworks` = 1) (SELECT `right_fg0`.`aqi` `aqi`, `right_fg0`.`iaqi_h` `iaqi_h`, `right_fg0`.`iaqi_p` `iaqi_p`, `right_fg0`.`iaqi_pm10` `iaqi_pm10`, `right_fg0`.`iaqi_t` `iaqi_t`, `right_fg0`.`date` `date`, `right_fg0`.`o3_avg` `o3_avg`, `right_fg0`.`o3_max` `o3_max`, `right_fg0`.`o3_min` `o3_min`, `right_fg0`.`pm10_avg` `pm10_avg`, `right_fg0`.`pm10_max` `pm10_max`, `right_fg0`.`pm10_min` `pm10_min`, `right_fg0`.`pm25_avg` `pm25_avg`, `right_fg0`.`pm25_max` `pm25_max`, `right_fg0`.`pm25_min` `pm25_min`, `right_fg0`.`city` `city`, `right_fg0`.`tempmax` `tempmax`, `right_fg0`.`tempmin` `tempmin`, `right_fg0`.`temp` `temp`, `right_fg0`.`feelslikemax` `feelslikemax`, `right_fg0`.`feelslikemin` `feelslikemin`, `right_fg0`.`feelslike` `feelslike`, `right_fg0`.`dew` `dew`, `right_fg0`.`humidity` `humidity`, `right_fg0`.`precip` `precip`, `right_fg0`.`precipprob` `precipprob`, `right_fg0`.`precipcover` `precipcover`, `right_fg0`.`snow` `snow`, `right_fg0`.`snowdepth` `snowdepth`, `right_fg0`.`windgust` `windgust`, `right_fg0`.`windspeed` `windspeed`, `right_fg0`.`winddir` `winddir`, `right_fg0`.`pressure` `pressure`, `right_fg0`.`cloudcover` `cloudcover`, `right_fg0`.`visibility` `visibility`, `right_fg0`.`solarradiation` `solarradiation`, `right_fg0`.`solarenergy` `solarenergy`, `right_fg0`.`uvindex` `uvindex`, `right_fg0`.`conditions` `conditions`\n",
      "FROM right_fg0)\n"
     ]
    }
   ],
   "source": [
    "query_show = query.show(5)\n",
    "col_names = query_show.columns"
   ]
  },
  {
   "cell_type": "code",
   "execution_count": 5,
   "metadata": {},
   "outputs": [
    {
     "data": {
      "text/html": [
       "<div>\n",
       "<style scoped>\n",
       "    .dataframe tbody tr th:only-of-type {\n",
       "        vertical-align: middle;\n",
       "    }\n",
       "\n",
       "    .dataframe tbody tr th {\n",
       "        vertical-align: top;\n",
       "    }\n",
       "\n",
       "    .dataframe thead th {\n",
       "        text-align: right;\n",
       "    }\n",
       "</style>\n",
       "<table border=\"1\" class=\"dataframe\">\n",
       "  <thead>\n",
       "    <tr style=\"text-align: right;\">\n",
       "      <th></th>\n",
       "      <th>aqi</th>\n",
       "      <th>iaqi_h</th>\n",
       "      <th>iaqi_p</th>\n",
       "      <th>iaqi_pm10</th>\n",
       "      <th>iaqi_t</th>\n",
       "      <th>date</th>\n",
       "      <th>o3_avg</th>\n",
       "      <th>o3_max</th>\n",
       "      <th>o3_min</th>\n",
       "      <th>pm10_avg</th>\n",
       "      <th>...</th>\n",
       "      <th>windgust</th>\n",
       "      <th>windspeed</th>\n",
       "      <th>winddir</th>\n",
       "      <th>pressure</th>\n",
       "      <th>cloudcover</th>\n",
       "      <th>visibility</th>\n",
       "      <th>solarradiation</th>\n",
       "      <th>solarenergy</th>\n",
       "      <th>uvindex</th>\n",
       "      <th>conditions</th>\n",
       "    </tr>\n",
       "  </thead>\n",
       "  <tbody>\n",
       "    <tr>\n",
       "      <th>0</th>\n",
       "      <td>34</td>\n",
       "      <td>79.0</td>\n",
       "      <td>1026.4</td>\n",
       "      <td>14</td>\n",
       "      <td>12.7</td>\n",
       "      <td>1672552800000</td>\n",
       "      <td>11</td>\n",
       "      <td>21</td>\n",
       "      <td>17</td>\n",
       "      <td>27</td>\n",
       "      <td>...</td>\n",
       "      <td>18.7</td>\n",
       "      <td>8.9</td>\n",
       "      <td>25.5</td>\n",
       "      <td>1023.7</td>\n",
       "      <td>55.1</td>\n",
       "      <td>10.1</td>\n",
       "      <td>98.5</td>\n",
       "      <td>8.5</td>\n",
       "      <td>6</td>\n",
       "      <td>Partially cloudy</td>\n",
       "    </tr>\n",
       "    <tr>\n",
       "      <th>1</th>\n",
       "      <td>53</td>\n",
       "      <td>52.0</td>\n",
       "      <td>1028.8</td>\n",
       "      <td>21</td>\n",
       "      <td>17.7</td>\n",
       "      <td>1672639200000</td>\n",
       "      <td>13</td>\n",
       "      <td>25</td>\n",
       "      <td>6</td>\n",
       "      <td>19</td>\n",
       "      <td>...</td>\n",
       "      <td>11.9</td>\n",
       "      <td>14.3</td>\n",
       "      <td>198.1</td>\n",
       "      <td>1024.2</td>\n",
       "      <td>81.0</td>\n",
       "      <td>10.0</td>\n",
       "      <td>67.7</td>\n",
       "      <td>5.9</td>\n",
       "      <td>3</td>\n",
       "      <td>Rain, Partially cloudy</td>\n",
       "    </tr>\n",
       "    <tr>\n",
       "      <th>2</th>\n",
       "      <td>46</td>\n",
       "      <td>59.7</td>\n",
       "      <td>1025.5</td>\n",
       "      <td>46</td>\n",
       "      <td>13.3</td>\n",
       "      <td>1672725600000</td>\n",
       "      <td>11</td>\n",
       "      <td>13</td>\n",
       "      <td>11</td>\n",
       "      <td>15</td>\n",
       "      <td>...</td>\n",
       "      <td>20.2</td>\n",
       "      <td>7.7</td>\n",
       "      <td>8.2</td>\n",
       "      <td>1030.0</td>\n",
       "      <td>35.1</td>\n",
       "      <td>10.0</td>\n",
       "      <td>106.3</td>\n",
       "      <td>9.2</td>\n",
       "      <td>5</td>\n",
       "      <td>Partially cloudy</td>\n",
       "    </tr>\n",
       "    <tr>\n",
       "      <th>3</th>\n",
       "      <td>65</td>\n",
       "      <td>69.0</td>\n",
       "      <td>1027.4</td>\n",
       "      <td>25</td>\n",
       "      <td>9.4</td>\n",
       "      <td>1672812000000</td>\n",
       "      <td>5</td>\n",
       "      <td>19</td>\n",
       "      <td>3</td>\n",
       "      <td>33</td>\n",
       "      <td>...</td>\n",
       "      <td>10.4</td>\n",
       "      <td>7.4</td>\n",
       "      <td>350.9</td>\n",
       "      <td>1033.5</td>\n",
       "      <td>2.4</td>\n",
       "      <td>10.0</td>\n",
       "      <td>92.3</td>\n",
       "      <td>7.9</td>\n",
       "      <td>5</td>\n",
       "      <td>Clear</td>\n",
       "    </tr>\n",
       "    <tr>\n",
       "      <th>4</th>\n",
       "      <td>78</td>\n",
       "      <td>77.0</td>\n",
       "      <td>1027.6</td>\n",
       "      <td>30</td>\n",
       "      <td>10.0</td>\n",
       "      <td>1672898400000</td>\n",
       "      <td>8</td>\n",
       "      <td>24</td>\n",
       "      <td>2</td>\n",
       "      <td>25</td>\n",
       "      <td>...</td>\n",
       "      <td>11.5</td>\n",
       "      <td>5.7</td>\n",
       "      <td>12.9</td>\n",
       "      <td>1029.7</td>\n",
       "      <td>0.1</td>\n",
       "      <td>11.2</td>\n",
       "      <td>111.3</td>\n",
       "      <td>9.6</td>\n",
       "      <td>5</td>\n",
       "      <td>Clear</td>\n",
       "    </tr>\n",
       "  </tbody>\n",
       "</table>\n",
       "<p>5 rows × 39 columns</p>\n",
       "</div>"
      ],
      "text/plain": [
       "   aqi  iaqi_h  iaqi_p  iaqi_pm10  iaqi_t           date  o3_avg  o3_max  \\\n",
       "0   34    79.0  1026.4         14    12.7  1672552800000      11      21   \n",
       "1   53    52.0  1028.8         21    17.7  1672639200000      13      25   \n",
       "2   46    59.7  1025.5         46    13.3  1672725600000      11      13   \n",
       "3   65    69.0  1027.4         25     9.4  1672812000000       5      19   \n",
       "4   78    77.0  1027.6         30    10.0  1672898400000       8      24   \n",
       "\n",
       "   o3_min  pm10_avg  ...  windgust  windspeed  winddir  pressure  cloudcover  \\\n",
       "0      17        27  ...      18.7        8.9     25.5    1023.7        55.1   \n",
       "1       6        19  ...      11.9       14.3    198.1    1024.2        81.0   \n",
       "2      11        15  ...      20.2        7.7      8.2    1030.0        35.1   \n",
       "3       3        33  ...      10.4        7.4    350.9    1033.5         2.4   \n",
       "4       2        25  ...      11.5        5.7     12.9    1029.7         0.1   \n",
       "\n",
       "  visibility  solarradiation  solarenergy  uvindex              conditions  \n",
       "0       10.1            98.5          8.5        6        Partially cloudy  \n",
       "1       10.0            67.7          5.9        3  Rain, Partially cloudy  \n",
       "2       10.0           106.3          9.2        5        Partially cloudy  \n",
       "3       10.0            92.3          7.9        5                   Clear  \n",
       "4       11.2           111.3          9.6        5                   Clear  \n",
       "\n",
       "[5 rows x 39 columns]"
      ]
     },
     "execution_count": 5,
     "metadata": {},
     "output_type": "execute_result"
    }
   ],
   "source": [
    "query_show"
   ]
  },
  {
   "cell_type": "code",
   "execution_count": 6,
   "metadata": {},
   "outputs": [],
   "source": [
    "# col_names = list(air_columns) + list(weather_columns)\n",
    "\n",
    "category_cols = ['city','date','conditions','aqi']\n",
    "mapping_transformers = {col_name:fs.get_transformation_function(name='standard_scaler') for col_name in col_names if col_name not in category_cols}\n",
    "category_cols = {col_name:fs.get_transformation_function(name='label_encoder') for col_name in category_cols if col_name not in ['date','aqi']}\n",
    "mapping_transformers.update(category_cols)"
   ]
  },
  {
   "cell_type": "code",
   "execution_count": 7,
   "metadata": {},
   "outputs": [
    {
     "name": "stdout",
     "output_type": "stream",
     "text": [
      "Feature view created successfully, explore it at \n",
      "https://c.app.hopsworks.ai:443/p/5359/fs/5272/fv/air_quality_fv/version/5\n"
     ]
    }
   ],
   "source": [
    "\n",
    "feature_view = fs.create_feature_view(\n",
    "    name = 'air_quality_fv',\n",
    "    version = 5,\n",
    "    transformation_functions = mapping_transformers,\n",
    "    query = query\n",
    ")\n",
    "\n",
    "feature_view = fs.get_feature_view(\n",
    "    name = 'air_quality_fv',\n",
    "    version = 5\n",
    ")"
   ]
  },
  {
   "cell_type": "code",
   "execution_count": null,
   "metadata": {},
   "outputs": [],
   "source": []
  }
 ],
 "metadata": {
  "kernelspec": {
   "display_name": "id2223",
   "language": "python",
   "name": "python3"
  },
  "language_info": {
   "codemirror_mode": {
    "name": "ipython",
    "version": 3
   },
   "file_extension": ".py",
   "mimetype": "text/x-python",
   "name": "python",
   "nbconvert_exporter": "python",
   "pygments_lexer": "ipython3",
   "version": "3.8.13 (default, Oct 21 2022, 23:50:54) \n[GCC 11.2.0]"
  },
  "orig_nbformat": 4,
  "vscode": {
   "interpreter": {
    "hash": "72d9cb393ebccf0ab87ae454626ac677825ae16c3cf70fb4dbd37b0845ae40f2"
   }
  }
 },
 "nbformat": 4,
 "nbformat_minor": 2
}
